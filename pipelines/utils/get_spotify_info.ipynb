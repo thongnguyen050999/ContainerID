{
 "cells": [
  {
   "cell_type": "code",
   "execution_count": null,
   "metadata": {
    "scrolled": true
   },
   "outputs": [],
   "source": [
    "from get_spotify_info import *"
   ]
  },
  {
   "cell_type": "markdown",
   "metadata": {},
   "source": [
    "**Spotify credentials initializing**"
   ]
  },
  {
   "cell_type": "code",
   "execution_count": null,
   "metadata": {},
   "outputs": [],
   "source": [
    "SPOTIFY_CLIENT_ID = '997a8a5d9d0b4c9c994889053a3b38e2'\n",
    "\n",
    "SPOTIFY_CLIENT_SECRET = '21262f56928f40b79c32469a13ebb8c7'\n",
    "\n",
    "token = SpotifyClientCredentials(client_id=SPOTIFY_CLIENT_ID,\n",
    "                                 client_secret=SPOTIFY_CLIENT_SECRET)\n",
    "\n",
    "cache_token = token.get_access_token()\n",
    "\n",
    "spotify = Spotify(cache_token)"
   ]
  },
  {
   "cell_type": "markdown",
   "metadata": {},
   "source": [
    "**Read the CSV file dataset**\n",
    "\n",
    "- Change the path of CSV file\n",
    "- Must contains `artist` and `song` columns"
   ]
  },
  {
   "cell_type": "code",
   "execution_count": null,
   "metadata": {},
   "outputs": [],
   "source": [
    "path = '/path/to/csv/file'\n",
    "#'/path/to/csv/file'\n",
    "song_data = pd.read_csv(path)\n",
    "\n",
    "artist_song = song_data[['artist', 'song']].copy()\n",
    "artist_song.drop_duplicates(inplace=True)\n",
    "artist_song.sort_values(by=['artist', 'song'], inplace=True)\n",
    "artist_song.reset_index(inplace=True, drop=True)"
   ]
  },
  {
   "cell_type": "markdown",
   "metadata": {},
   "source": [
    "**Crawling all the metadata from Spotify**\n",
    "\n",
    "Noted that it will change in place"
   ]
  },
  {
   "cell_type": "code",
   "execution_count": null,
   "metadata": {},
   "outputs": [],
   "source": [
    "get_track_ids(spotify, artist_song)\n",
    "audio_features = get_audio_features(spotify, artist_song,verbose=True)\n",
    "audio_features.rename(columns={'id':'spotify_ID'}, inplace=True)  \n",
    "artist_song = artist_song.merge(audio_features, how='left', \n",
    "                                        on='spotify_ID')\n",
    "\n",
    "track_genres = get_track_genres(spotify, short.spotify_ID.dropna().unique(),\n",
    "                                verbose=True)\n",
    "artist_song = artist_song.merge(track_genres, how='left', on='spotify_ID')"
   ]
  },
  {
   "cell_type": "code",
   "execution_count": null,
   "metadata": {},
   "outputs": [],
   "source": [
    "artist_song"
   ]
  }
 ],
 "metadata": {
  "kernelspec": {
   "display_name": "Python 3",
   "language": "python",
   "name": "python3"
  },
  "language_info": {
   "codemirror_mode": {
    "name": "ipython",
    "version": 3
   },
   "file_extension": ".py",
   "mimetype": "text/x-python",
   "name": "python",
   "nbconvert_exporter": "python",
   "pygments_lexer": "ipython3",
   "version": "3.7.5"
  }
 },
 "nbformat": 4,
 "nbformat_minor": 4
}
