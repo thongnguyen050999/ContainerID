{
 "cells": [
  {
   "cell_type": "code",
   "execution_count": 1,
   "metadata": {},
   "outputs": [],
   "source": [
    "%run grab_all_files_into_one_folder.ipynb"
   ]
  },
  {
   "cell_type": "code",
   "execution_count": 2,
   "metadata": {},
   "outputs": [],
   "source": [
    "import pandas\n",
    "import numpy as np"
   ]
  },
  {
   "cell_type": "code",
   "execution_count": 3,
   "metadata": {},
   "outputs": [],
   "source": [
    "def append_new_row(excel_sheet, url=np.nan, name=np.nan, file_name=np.nan, status=np.nan, error=np.nan, genre=np.nan, mood=np.nan):\n",
    "    TITLE_COLUMNS = list(excel_sheet.columns)\n",
    "    df = pandas.DataFrame([[url, name, file_name, status, error, genre, mood]], columns=TITLE_COLUMNS)\n",
    "    return excel_sheet.append(df, ignore_index = True)"
   ]
  },
  {
   "cell_type": "code",
   "execution_count": 4,
   "metadata": {},
   "outputs": [],
   "source": [
    "def add_files_into_label_queue(files, label_queue_folder, info_from_file=True, info_from_metadata=None):\n",
    "    # Get file_name as NAME in excel, change the file name into index\n",
    "    metadata_path = Path(label_queue_folder) / 'metadata.xlsx'\n",
    "    scores_folder = str(Path(label_queue_folder) / 'scores')\n",
    "\n",
    "    sheet = pandas.read_excel(metadata_path)\n",
    "    new_sheet = sheet\n",
    "    for index, file in enumerate(files):\n",
    "        title, ext = Path(file).stem, Path(file).suffix\n",
    "\n",
    "        # Find the next name to be named in the sheet\n",
    "        new_index = new_sheet.last_valid_index() + 1\n",
    "        \n",
    "        copy_file(src=file, dest=scores_folder, new_file_name=str(new_index))\n",
    "\n",
    "        new_file_name = str(new_index) + ext\n",
    "        new_sheet = append_new_row(new_sheet, name = title, file_name=new_file_name)\n",
    "        \n",
    "    new_sheet.to_excel(metadata_path)\n",
    "    print('Updated label queuing dataset')\n"
   ]
  },
  {
   "cell_type": "code",
   "execution_count": 5,
   "metadata": {},
   "outputs": [],
   "source": [
    "files = get_all_files_in_dir_recursively(\"D:\\\\Projects\\\\viMusic\\\\test\\\\New folder\")\n",
    "label_queue_folder = 'D:\\\\Projects\\\\viMusic\\\\dataset\\\\label_queue_dataset'"
   ]
  },
  {
   "cell_type": "code",
   "execution_count": 6,
   "metadata": {
    "scrolled": true
   },
   "outputs": [
    {
     "name": "stdout",
     "output_type": "stream",
     "text": [
      "Updated label queuing dataset\n"
     ]
    }
   ],
   "source": [
    "add_files_into_label_queue(files, label_queue_folder)"
   ]
  },
  {
   "cell_type": "code",
   "execution_count": null,
   "metadata": {},
   "outputs": [],
   "source": [
    "path_to_server = \"\""
   ]
  }
 ],
 "metadata": {
  "kernelspec": {
   "display_name": "Python 3",
   "language": "python",
   "name": "python3"
  },
  "language_info": {
   "codemirror_mode": {
    "name": "ipython",
    "version": 3
   },
   "file_extension": ".py",
   "mimetype": "text/x-python",
   "name": "python",
   "nbconvert_exporter": "python",
   "pygments_lexer": "ipython3",
   "version": "3.7.4"
  }
 },
 "nbformat": 4,
 "nbformat_minor": 2
}
