{
 "cells": [
  {
   "cell_type": "code",
   "execution_count": null,
   "metadata": {},
   "outputs": [],
   "source": [
    "%reload_ext autoreload\n",
    "%autoreload 2\n",
    "\n",
    "import copy\n",
    "from pathlib import Path\n",
    "import os; cwd =Path(os.getcwd())\n",
    "import sys;\n",
    "from pipelines.data_processing.configs import remi_no_sharp_and_transpose_config, remi_all_key_and_transpose_config\n",
    "from pipelines.data_processing.music_dataset import MusicDataset, MusicDatasetTransform\n",
    "\n",
<<<<<<< HEAD
    "from pipelines.data_processing.configs import test_config\n",
    "from pipelines.data_processing.dataset import MusicDataset\n",
    "from pipelines.data_processing.transform import MusicDatasetTransform"
=======
    "from common.music_item import XMLItem\n",
    "parent_folder = Path(cwd.parents[2])"
>>>>>>> b8a89e07f1faa2f367baf9cf54cc01338ca0779d
   ]
  },
  {
   "cell_type": "markdown",
   "metadata": {},
   "source": [
    "**Init MusicDatasetTransform class**"
   ]
  },
  {
   "cell_type": "code",
   "execution_count": null,
   "metadata": {
    "scrolled": true
   },
   "outputs": [],
   "source": [
    "dataset_dir = parent_folder / 'models/remi/datasets'\n",
    "config = remi_all_key_and_transpose_config\n",
    "dataset_transform = MusicDatasetTransform(dataset_dir, config.handler, config.vocab, config.transform_pipeline)"
   ]
  },
  {
   "cell_type": "markdown",
   "metadata": {},
   "source": [
    "**Single file processing**"
   ]
  },
  {
   "cell_type": "code",
   "execution_count": null,
   "metadata": {
    "scrolled": true
   },
   "outputs": [],
   "source": [
    "dataset_transform[6][:, :10]"
   ]
  },
  {
   "cell_type": "markdown",
   "metadata": {},
   "source": [
    "**Preprocess the data and save into pkl file**"
   ]
  },
  {
   "cell_type": "code",
   "execution_count": null,
   "metadata": {
    "scrolled": false
   },
   "outputs": [],
   "source": [
    "dataset_transform.preprocess_dataset()\n",
    "output_file = parent_folder / 'models/remi/datasets_' + config.name + '.pkl'\n",
    "dataset_transform.save_preprocess_dataset(output_file)"
   ]
  },
  {
   "cell_type": "markdown",
   "metadata": {},
   "source": [
    "**Load pkl file by MusicDataset class**"
   ]
  },
  {
   "cell_type": "code",
   "execution_count": null,
   "metadata": {},
   "outputs": [],
   "source": [
    "output_file = r'D:\\Projects\\viMusic\\repo\\viMusic\\models\\remi\\datasets.pkl'\n",
    "dataset = MusicDataset(pkl_file=output_file); dataset.shape"
   ]
  }
 ],
 "metadata": {
  "kernelspec": {
   "display_name": "Python 3",
   "language": "python",
   "name": "python3"
  },
  "language_info": {
   "codemirror_mode": {
    "name": "ipython",
    "version": 3
   },
   "file_extension": ".py",
   "mimetype": "text/x-python",
   "name": "python",
   "nbconvert_exporter": "python",
   "pygments_lexer": "ipython3",
   "version": "3.7.7"
  }
 },
 "nbformat": 4,
 "nbformat_minor": 4
}