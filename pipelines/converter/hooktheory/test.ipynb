{
 "nbformat": 4,
 "nbformat_minor": 2,
 "metadata": {
  "language_info": {
   "name": "python",
   "codemirror_mode": {
    "name": "ipython",
    "version": 3
   },
   "version": "3.7.5-final"
  },
  "orig_nbformat": 2,
  "file_extension": ".py",
  "mimetype": "text/x-python",
  "name": "python",
  "npconvert_exporter": "python",
  "pygments_lexer": "ipython3",
  "version": 3,
  "kernelspec": {
   "name": "python37564bittf2condadc63a50a0acc409a86f332b1d4114e1d",
   "display_name": "Python 3.7.5 64-bit ('tf2': conda)"
  }
 },
 "cells": [
  {
   "cell_type": "code",
   "execution_count": 1,
   "metadata": {},
   "outputs": [],
   "source": [
    "%reload_ext autoreload\n",
    "%autoreload 2"
   ]
  },
  {
   "cell_type": "code",
   "execution_count": 2,
   "metadata": {},
   "outputs": [],
   "source": [
    "from chord2mel_transformers.common.music21_parser import NoteSequence\n",
    "from pathlib import Path"
   ]
  },
  {
   "cell_type": "code",
   "execution_count": 5,
   "metadata": {},
   "outputs": [],
   "source": [
    "seq = NoteSequence()\n",
    "seq.parse_from_hkt_file(\"[ET][Katy Perry][bridge].json\", True)"
   ]
  },
  {
   "cell_type": "code",
   "execution_count": 26,
   "metadata": {},
   "outputs": [],
   "source": [
    "from music21 import *\n",
    "cr = music21.analysis.reduceChords.ChordReducer()"
   ]
  },
  {
   "cell_type": "code",
   "execution_count": 28,
   "metadata": {},
   "outputs": [],
   "source": [
    "pList = [pitch.Pitch('C4'), pitch.Pitch('E4'), pitch.Pitch('G#4')]\n",
    "tc = analysis.transposition.TranspositionChecker(pList)"
   ]
  },
  {
   "cell_type": "code",
   "execution_count": 29,
   "metadata": {},
   "outputs": [
    {
     "output_type": "execute_result",
     "data": {
      "text/plain": "[<music21.chord.Chord C E G#>,\n <music21.chord.Chord C# F A>,\n <music21.chord.Chord D F# A#>,\n <music21.chord.Chord E- G B>]"
     },
     "metadata": {},
     "execution_count": 29
    }
   ],
   "source": [
    "tc.getChordsOfDistinctTranspositions()"
   ]
  },
  {
   "cell_type": "code",
   "execution_count": 16,
   "metadata": {},
   "outputs": [
    {
     "output_type": "execute_result",
     "data": {
      "text/plain": "<music21.stream.Score 0x258e4318888>"
     },
     "metadata": {},
     "execution_count": 16
    }
   ],
   "source": [
    "seq._xml_data"
   ]
  },
  {
   "cell_type": "code",
   "execution_count": null,
   "metadata": {},
   "outputs": [],
   "source": []
  },
  {
   "cell_type": "code",
   "execution_count": 9,
   "metadata": {},
   "outputs": [
    {
     "output_type": "stream",
     "name": "stdout",
     "text": "{0.0} <music21.tempo.MetronomeMark Quarter=150>\n{0.0} <music21.key.Key of A- major>\n{0.0} <music21.meter.TimeSignature 4/4>\n{0.0} <music21.note.Note A->\n{2.0} <music21.note.Note D->\n{3.0} <music21.note.Note D->\n{3.5} <music21.note.Note D->\n{4.5} <music21.note.Note C>\n{5.5} <music21.note.Note C>\n{6.5} <music21.note.Note B->\n{8.0} <music21.note.Note A->\n{10.0} <music21.note.Note D->\n{11.0} <music21.note.Note D->\n{11.5} <music21.note.Note D->\n{12.5} <music21.note.Note C>\n{13.5} <music21.note.Note C>\n{14.5} <music21.note.Note B->\n{16.0} <music21.note.Note A->\n{18.0} <music21.note.Note C>\n{20.0} <music21.note.Note C>\n{21.0} <music21.note.Note B->\n{21.5} <music21.note.Note A->\n{22.5} <music21.note.Note E->\n{23.0} <music21.note.Note A->\n{23.5} <music21.note.Note B->\n{26.0} <music21.note.Note A->\n{27.25} <music21.note.Note A->\n{28.5} <music21.note.Note A->\n{29.0} <music21.note.Note A->\n{30.0} <music21.note.Note A->\n{31.0} <music21.note.Note A->\n{32.0} <music21.note.Note A->\n{34.5} <music21.note.Note F>\n{35.0} <music21.note.Note D->\n{35.5} <music21.note.Note D->\n{36.0} <music21.note.Note D->\n{37.0} <music21.note.Note C>\n{37.5} <music21.note.Note C>\n{38.0} <music21.note.Note C>\n{39.0} <music21.note.Note B->\n{40.0} <music21.note.Note A->\n{41.0} <music21.note.Note A->\n{42.0} <music21.note.Note A->\n{43.0} <music21.note.Note D->\n{43.5} <music21.note.Note D->\n{44.0} <music21.note.Note D->\n{45.0} <music21.note.Note C>\n{45.5} <music21.note.Note C>\n{46.0} <music21.note.Note C>\n{47.0} <music21.note.Note B->\n{48.0} <music21.note.Note C>\n{49.0} <music21.note.Note A->\n{50.0} <music21.note.Note A->\n{51.0} <music21.note.Note A->\n{51.5} <music21.note.Note C>\n{52.0} <music21.note.Note C>\n{53.0} <music21.note.Note B->\n{53.5} <music21.note.Note A->\n{54.5} <music21.note.Note E->\n{55.0} <music21.note.Note A->\n{55.5} <music21.note.Note G>\n{60.75} <music21.note.Note F>\n{61.0} <music21.note.Note E->\n{64.0} <music21.note.Note A->\n{66.0} <music21.note.Note A->\n{68.0} <music21.note.Note D->\n{70.0} <music21.note.Note C>\n"
    }
   ],
   "source": [
    "seq._xml_data.parts[0]"
   ]
  },
  {
   "cell_type": "code",
   "execution_count": 6,
   "metadata": {},
   "outputs": [
    {
     "output_type": "execute_result",
     "data": {
      "text/plain": "<chord2mel_transformers.common.music21_parser.NoteSequence at 0x258e42df6c8>"
     },
     "metadata": {},
     "execution_count": 6
    }
   ],
   "source": [
    "seq.show(True)"
   ]
  },
  {
   "cell_type": "code",
   "execution_count": 22,
   "metadata": {},
   "outputs": [
    {
     "output_type": "execute_result",
     "data": {
      "text/plain": "'C:\\\\Users\\\\haotr\\\\AppData\\\\Local\\\\Temp\\\\music21\\\\tmp575xj4au.xml'"
     },
     "metadata": {},
     "execution_count": 22
    }
   ],
   "source": [
    "seq._xml_data.write('xml')"
   ]
  },
  {
   "cell_type": "code",
   "execution_count": 24,
   "metadata": {},
   "outputs": [],
   "source": [
    "from pathlib import Path"
   ]
  },
  {
   "cell_type": "code",
   "execution_count": 26,
   "metadata": {},
   "outputs": [
    {
     "output_type": "execute_result",
     "data": {
      "text/plain": "'C:\\\\Users\\\\haotr\\\\AppData\\\\Local\\\\Temp\\\\music21\\\\tmp575xj4au.xml'"
     },
     "metadata": {},
     "execution_count": 26
    }
   ],
   "source": [
    "str(Path('C:\\\\Users\\\\haotr\\\\AppData\\\\Local\\\\Temp\\\\music21\\\\tmp575xj4au.xml'))"
   ]
  },
  {
   "cell_type": "code",
   "execution_count": 5,
   "metadata": {},
   "outputs": [],
   "source": [
    "from chord2mel_transformers.converter.hooktheory.hkt_generator import HKTObject\n",
    "\n",
    "hkt_obj = HKTObject(\"[ET][Katy Perry][bridge].json\")\n",
    ""
   ]
  },
  {
   "cell_type": "code",
   "execution_count": 4,
   "metadata": {},
   "outputs": [],
   "source": [
    "import music21"
   ]
  },
  {
   "cell_type": "code",
   "execution_count": 9,
   "metadata": {},
   "outputs": [],
   "source": [
    "c = music21.roman.RomanNumeral('ii', music21.key.Key('Ab', 'major'), offset=100)\n"
   ]
  },
  {
   "cell_type": "code",
   "execution_count": 12,
   "metadata": {},
   "outputs": [
    {
     "output_type": "execute_result",
     "data": {
      "text/plain": "<music21.harmony.ChordSymbol B-m>"
     },
     "metadata": {},
     "execution_count": 12
    }
   ],
   "source": [
    "music21.harmony.chordSymbolFromChord(c).offset"
   ]
  }
 ]
}