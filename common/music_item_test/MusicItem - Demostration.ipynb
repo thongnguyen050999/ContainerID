{
 "cells": [
  {
   "cell_type": "code",
   "execution_count": 1,
   "metadata": {},
   "outputs": [],
   "source": [
    "%reload_ext autoreload\n",
    "%autoreload 2\n",
    "import os, sys;\n",
    "from pathlib import Path\n",
    "cwd = Path(os.getcwd())\n",
    "sys.path.append(str(cwd.parents[0]))\n",
    "sys.path.append(str(cwd.parents[1]))"
   ]
  },
  {
   "cell_type": "code",
   "execution_count": 2,
   "metadata": {},
   "outputs": [],
   "source": [
    "from music_item import MusicItem"
   ]
  },
  {
   "cell_type": "markdown",
   "metadata": {},
   "source": [
    "### Parse `xml` file into MusicItem"
   ]
  },
  {
   "cell_type": "markdown",
   "metadata": {},
   "source": [
    "**Orignal**"
   ]
  },
  {
   "cell_type": "code",
   "execution_count": 4,
   "metadata": {},
   "outputs": [],
   "source": [
    "item = MusicItem()\n",
    "item.from_file('[1985][Bowling For Soup][intro].xml');"
   ]
  },
  {
   "cell_type": "markdown",
   "metadata": {},
   "source": [
    "### Transpose to No-Sharp Key (C - Am)"
   ]
  },
  {
   "cell_type": "markdown",
   "metadata": {},
   "source": [
    "**Transposed**"
   ]
  },
  {
   "cell_type": "code",
   "execution_count": 6,
   "metadata": {
    "scrolled": true
   },
   "outputs": [
    {
     "name": "stdout",
     "output_type": "stream",
     "text": [
      "{0.0} <music21.metadata.Metadata object at 0x000001985F2BA0F0>\n",
      "{0.0} <music21.stream.Part 0x1985f2bad30>\n",
      "    {0.0} <music21.instrument.Instrument 'Pffd15ecaaef1b289610c74b0e16a1085: '>\n",
      "    {0.0} <music21.stream.Measure 1 offset=0.0>\n",
      "        {0.0} <music21.clef.TrebleClef>\n",
      "        {0.0} <music21.tempo.MetronomeMark Quarter=116.0>\n",
      "        {0.0} <music21.key.Key of C major>\n",
      "        {0.0} <music21.meter.TimeSignature 4/4>\n",
      "        {0.0} <music21.note.Note D>\n",
      "        {0.5} <music21.note.Note E>\n",
      "        {1.0} <music21.note.Rest rest>\n",
      "        {1.5} <music21.note.Note C>\n",
      "        {2.0} <music21.note.Note D>\n",
      "        {2.5} <music21.note.Note E>\n",
      "        {3.0} <music21.note.Rest rest>\n",
      "        {3.5} <music21.note.Note C>\n",
      "    {4.0} <music21.stream.Measure 2 offset=4.0>\n",
      "        {0.0} <music21.note.Note D>\n",
      "        {0.5} <music21.note.Note C>\n",
      "        {1.0} <music21.note.Note D>\n",
      "        {1.5} <music21.note.Note E>\n",
      "        {2.0} <music21.note.Note D>\n",
      "        {2.5} <music21.note.Note C>\n",
      "        {3.0} <music21.note.Rest rest>\n",
      "        {3.5} <music21.note.Note C>\n",
      "    {8.0} <music21.stream.Measure 3 offset=8.0>\n",
      "        {0.0} <music21.note.Note D>\n",
      "        {0.5} <music21.note.Note E>\n",
      "        {1.0} <music21.note.Rest rest>\n",
      "        {1.5} <music21.note.Note C>\n",
      "        {2.0} <music21.note.Note D>\n",
      "        {2.5} <music21.note.Note E>\n",
      "        {3.0} <music21.note.Rest rest>\n",
      "        {3.5} <music21.note.Note C>\n",
      "    {12.0} <music21.stream.Measure 4 offset=12.0>\n",
      "        {0.0} <music21.note.Note D>\n",
      "        {0.5} <music21.note.Note C>\n",
      "        {1.0} <music21.note.Note D>\n",
      "        {1.5} <music21.note.Note E>\n",
      "        {2.0} <music21.note.Note D>\n",
      "        {2.5} <music21.note.Note C>\n",
      "        {3.0} <music21.bar.Barline type=final>\n",
      "{0.0} <music21.stream.Part 0x1985f2ba5f8>\n",
      "    {0.0} <music21.instrument.Instrument 'P7599e02873da1683c99ed4aa3e77ee18: '>\n",
      "    {0.0} <music21.stream.Measure 1 offset=0.0>\n",
      "        {0.0} <music21.clef.BassClef>\n",
      "        {0.0} <music21.tempo.MetronomeMark Quarter=116.0>\n",
      "        {0.0} <music21.key.Key of C major>\n",
      "        {0.0} <music21.meter.TimeSignature 4/4>\n",
      "        {0.0} <music21.chord.Chord C3 E3 G3>\n",
      "    {4.0} <music21.stream.Measure 2 offset=4.0>\n",
      "        {0.0} <music21.chord.Chord F3 A3 C4>\n",
      "    {8.0} <music21.stream.Measure 3 offset=8.0>\n",
      "        {0.0} <music21.chord.Chord A3 C4 E4>\n",
      "    {12.0} <music21.stream.Measure 4 offset=12.0>\n",
      "        {0.0} <music21.chord.Chord G3 B3 D4>\n",
      "        {4.0} <music21.bar.Barline type=final>\n",
      "{0.0} <music21.layout.ScoreLayout>\n"
     ]
    }
   ],
   "source": [
    "item.transpose_to_nosharp_key().show('text')"
   ]
  },
  {
   "cell_type": "markdown",
   "metadata": {},
   "source": [
    "**Transpose to one octave below**"
   ]
  },
  {
   "cell_type": "code",
   "execution_count": 8,
   "metadata": {
    "scrolled": true
   },
   "outputs": [
    {
     "name": "stdout",
     "output_type": "stream",
     "text": [
      "{0.0} <music21.metadata.Metadata object at 0x000001985F48AC18>\n",
      "{0.0} <music21.stream.Part 0x1985f48ad30>\n",
      "    {0.0} <music21.instrument.Instrument 'Pffd15ecaaef1b289610c74b0e16a1085: '>\n",
      "    {0.0} <music21.stream.Measure 1 offset=0.0>\n",
      "        {0.0} <music21.clef.TrebleClef>\n",
      "        {0.0} <music21.tempo.MetronomeMark Quarter=116.0>\n",
      "        {0.0} <music21.key.Key of B major>\n",
      "        {0.0} <music21.meter.TimeSignature 4/4>\n",
      "        {0.0} <music21.note.Note C#>\n",
      "        {0.5} <music21.note.Note D#>\n",
      "        {1.0} <music21.note.Rest rest>\n",
      "        {1.5} <music21.note.Note B>\n",
      "        {2.0} <music21.note.Note C#>\n",
      "        {2.5} <music21.note.Note D#>\n",
      "        {3.0} <music21.note.Rest rest>\n",
      "        {3.5} <music21.note.Note B>\n",
      "    {4.0} <music21.stream.Measure 2 offset=4.0>\n",
      "        {0.0} <music21.note.Note C#>\n",
      "        {0.5} <music21.note.Note B>\n",
      "        {1.0} <music21.note.Note C#>\n",
      "        {1.5} <music21.note.Note D#>\n",
      "        {2.0} <music21.note.Note C#>\n",
      "        {2.5} <music21.note.Note B>\n",
      "        {3.0} <music21.note.Rest rest>\n",
      "        {3.5} <music21.note.Note B>\n",
      "    {8.0} <music21.stream.Measure 3 offset=8.0>\n",
      "        {0.0} <music21.note.Note C#>\n",
      "        {0.5} <music21.note.Note D#>\n",
      "        {1.0} <music21.note.Rest rest>\n",
      "        {1.5} <music21.note.Note B>\n",
      "        {2.0} <music21.note.Note C#>\n",
      "        {2.5} <music21.note.Note D#>\n",
      "        {3.0} <music21.note.Rest rest>\n",
      "        {3.5} <music21.note.Note B>\n",
      "    {12.0} <music21.stream.Measure 4 offset=12.0>\n",
      "        {0.0} <music21.note.Note C#>\n",
      "        {0.5} <music21.note.Note B>\n",
      "        {1.0} <music21.note.Note C#>\n",
      "        {1.5} <music21.note.Note D#>\n",
      "        {2.0} <music21.note.Note C#>\n",
      "        {2.5} <music21.note.Note B>\n",
      "        {3.0} <music21.bar.Barline type=final>\n",
      "{0.0} <music21.stream.Part 0x1985f543cf8>\n",
      "    {0.0} <music21.instrument.Instrument 'P7599e02873da1683c99ed4aa3e77ee18: '>\n",
      "    {0.0} <music21.stream.Measure 1 offset=0.0>\n",
      "        {0.0} <music21.clef.BassClef>\n",
      "        {0.0} <music21.tempo.MetronomeMark Quarter=116.0>\n",
      "        {0.0} <music21.key.Key of B major>\n",
      "        {0.0} <music21.meter.TimeSignature 4/4>\n",
      "        {0.0} <music21.chord.Chord B1 E-2 F#2>\n",
      "    {4.0} <music21.stream.Measure 2 offset=4.0>\n",
      "        {0.0} <music21.chord.Chord E2 G#2 B2>\n",
      "    {8.0} <music21.stream.Measure 3 offset=8.0>\n",
      "        {0.0} <music21.chord.Chord G#2 B2 E-3>\n",
      "    {12.0} <music21.stream.Measure 4 offset=12.0>\n",
      "        {0.0} <music21.chord.Chord F#2 B-2 C#3>\n",
      "        {4.0} <music21.bar.Barline type=final>\n",
      "{0.0} <music21.layout.ScoreLayout>\n"
     ]
    }
   ],
   "source": [
    "item.transpose_octave(-1).show('text')"
   ]
  },
  {
   "cell_type": "markdown",
   "metadata": {},
   "source": [
    "### MusicItem can be stack\n",
    "\n",
    "* It means adding new parts parallely into the current MusicItem (in_place support)\n",
    "* There're warnings by unmatched score attributes, the attributes will be chosen from source"
   ]
  },
  {
   "cell_type": "code",
   "execution_count": 88,
   "metadata": {},
   "outputs": [],
   "source": [
    "item2 = MusicItem()\n",
    "item2.from_file(\"['74-'75][The Connells][chorus].xml\");"
   ]
  },
  {
   "cell_type": "code",
   "execution_count": 89,
   "metadata": {
    "scrolled": true
   },
   "outputs": [
    {
     "name": "stdout",
     "output_type": "stream",
     "text": [
      "WARNING: Unmatched key signature. Will change to match the source one \n",
      "                 Soure: B-major. External: g#-minor\n"
     ]
    }
   ],
   "source": [
    "item.stack(item2).show('txt')"
   ]
  },
  {
   "cell_type": "markdown",
   "metadata": {},
   "source": [
    "* Or append (stack horizontally)"
   ]
  },
  {
   "cell_type": "code",
   "execution_count": 89,
   "metadata": {
    "scrolled": true
   },
   "outputs": [
    {
     "name": "stdout",
     "output_type": "stream",
     "text": [
      "WARNING: Unmatched key signature. Will change to match the source one \n",
      "                 Soure: B-major. External: g#-minor\n"
     ]
    }
   ],
   "source": [
    "item.append(item2).show('txt')"
   ]
  },
  {
   "cell_type": "markdown",
   "metadata": {},
   "source": [
    "### Save score"
   ]
  },
  {
   "cell_type": "code",
   "execution_count": null,
   "metadata": {},
   "outputs": [],
   "source": [
    "item.write('test.xml')"
   ]
  }
 ],
 "metadata": {
  "kernelspec": {
   "display_name": "Python 3",
   "language": "python",
   "name": "python3"
  },
  "language_info": {
   "codemirror_mode": {
    "name": "ipython",
    "version": 3
   },
   "file_extension": ".py",
   "mimetype": "text/x-python",
   "name": "python",
   "nbconvert_exporter": "python",
   "pygments_lexer": "ipython3",
   "version": "3.6.10"
  }
 },
 "nbformat": 4,
 "nbformat_minor": 4
}
