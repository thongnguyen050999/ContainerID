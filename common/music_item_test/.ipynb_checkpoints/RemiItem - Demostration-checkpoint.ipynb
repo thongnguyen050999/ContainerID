{
 "cells": [
  {
   "cell_type": "code",
   "execution_count": 1,
   "metadata": {},
   "outputs": [],
   "source": [
    "%reload_ext autoreload\n",
    "%autoreload 2\n",
    "import os, sys;\n",
    "from pathlib import Path\n",
    "cwd = Path(os.getcwd())\n",
    "sys.path.append(str(cwd.parents[0]))\n",
    "sys.path.append(str(cwd.parents[1]))"
   ]
  },
  {
   "cell_type": "code",
   "execution_count": 2,
   "metadata": {},
   "outputs": [],
   "source": [
    "from music_item import RemiItem\n",
    "from pipelines.data_processing.configs import remi_config"
   ]
  },
  {
   "cell_type": "markdown",
   "metadata": {},
   "source": [
    "### Parse `xml` file into MusicItem"
   ]
  },
  {
   "cell_type": "markdown",
   "metadata": {},
   "source": [
    "**Orignal**"
   ]
  },
  {
   "cell_type": "code",
   "execution_count": 3,
   "metadata": {},
   "outputs": [
    {
     "name": "stdout",
     "output_type": "stream",
     "text": [
      "There is uncertain duration between two bars's offset.\n",
      "Correct value: 4.0 quarterLength. Actual value: 2.0 quarterLength\n"
     ]
    }
   ],
   "source": [
    "item = RemiItem(vocab = remi_config.vocab)\n",
    "item.from_file('[21 Guns][Green Day][verse].xml');"
   ]
  },
  {
   "cell_type": "markdown",
   "metadata": {},
   "source": [
    "**Show Item**"
   ]
  },
  {
   "cell_type": "code",
   "execution_count": 4,
   "metadata": {},
   "outputs": [
    {
     "name": "stdout",
     "output_type": "stream",
     "text": [
      "{0.0} <music21.metadata.Metadata object at 0x0000021A3CE97AC8>\n",
      "{0.0} <music21.stream.Part 0x21a3ce97748>\n",
      "    {0.0} <music21.instrument.Instrument 'Pd3b44a41c368c864c9fbc5319a88ec4f: '>\n",
      "    {0.0} <music21.stream.Measure 1 offset=0.0>\n",
      "        {0.0} <music21.clef.BassClef>\n",
      "        {0.0} <music21.tempo.MetronomeMark andantino Quarter=79.0>\n",
      "        {0.0} <music21.key.Key of d minor>\n",
      "        {0.0} <music21.meter.TimeSignature 4/4>\n",
      "        {0.0} <music21.note.Rest rest>\n",
      "        {1.0} <music21.note.Note F>\n",
      "        {1.5} <music21.note.Note F>\n",
      "        {2.0} <music21.note.Note C>\n",
      "        {2.5} <music21.note.Note D>\n",
      "        {3.0} <music21.note.Note D>\n",
      "        {3.5} <music21.note.Note C>\n",
      "    {4.0} <music21.stream.Measure 2 offset=4.0>\n",
      "        {0.0} <music21.note.Note C>\n",
      "        {0.5} <music21.note.Note B->\n",
      "        {1.0} <music21.note.Note A>\n",
      "        {1.5} <music21.note.Note G>\n",
      "        {3.5} <music21.note.Note G>\n",
      "    {8.0} <music21.stream.Measure 3 offset=8.0>\n",
      "        {0.0} <music21.note.Rest rest>\n",
      "        {1.0} <music21.note.Note F>\n",
      "        {1.5} <music21.note.Note F>\n",
      "        {2.0} <music21.note.Note C>\n",
      "        {2.5} <music21.note.Note D>\n",
      "        {3.0} <music21.note.Note D>\n",
      "    {12.0} <music21.stream.Measure 4 offset=12.0>\n",
      "        {0.0} <music21.note.Note A>\n",
      "        {0.5} <music21.note.Note B->\n",
      "        {1.0} <music21.note.Note C>\n",
      "        {1.5} <music21.note.Note G>\n",
      "        {3.5} <music21.note.Note G>\n",
      "    {16.0} <music21.stream.Measure 5 offset=16.0>\n",
      "        {0.0} <music21.note.Rest rest>\n",
      "        {1.0} <music21.note.Note F>\n",
      "        {1.5} <music21.note.Note F>\n",
      "        {2.0} <music21.note.Note C>\n",
      "        {2.5} <music21.note.Note D>\n",
      "        {3.0} <music21.note.Note D>\n",
      "    {20.0} <music21.stream.Measure 6 offset=20.0>\n",
      "        {0.0} <music21.note.Note C>\n",
      "        {0.5} <music21.note.Note B->\n",
      "        {1.0} <music21.note.Note A>\n",
      "        {1.5} <music21.note.Note G>\n",
      "        {2.5} <music21.note.Rest rest>\n",
      "        {3.0} <music21.note.Note A>\n",
      "        {3.25} <music21.note.Note G>\n",
      "        {3.75} <music21.note.Note G>\n",
      "    {24.0} <music21.stream.Measure 7 offset=24.0>\n",
      "        {0.0} <music21.note.Note G>\n",
      "        {0.5} <music21.note.Note F>\n",
      "        {1.0} <music21.note.Note F>\n",
      "        {1.5} <music21.note.Note D>\n",
      "        {2.0} <music21.note.Note F>\n",
      "        {2.5} <music21.note.Note D>\n",
      "        {3.0} <music21.note.Note A>\n",
      "        {3.5} <music21.note.Note A>\n",
      "    {28.0} <music21.stream.Measure 8 offset=28.0>\n",
      "        {0.0} <music21.note.Note A>\n",
      "        {0.5} <music21.note.Note G>\n",
      "    {32.0} <music21.stream.Measure 9 offset=32.0>\n",
      "        {0.0} <music21.note.Rest rest>\n",
      "        {1.0} <music21.note.Note F>\n",
      "        {1.5} <music21.note.Note F>\n",
      "        {2.0} <music21.note.Note C>\n",
      "        {2.5} <music21.note.Note D>\n",
      "        {3.0} <music21.note.Note D>\n",
      "        {3.5} <music21.note.Note C>\n",
      "    {36.0} <music21.stream.Measure 10 offset=36.0>\n",
      "        {0.0} <music21.note.Note C>\n",
      "        {0.5} <music21.note.Note B->\n",
      "        {1.0} <music21.note.Note A>\n",
      "        {1.5} <music21.note.Note G>\n",
      "        {3.5} <music21.note.Note G>\n",
      "    {40.0} <music21.stream.Measure 11 offset=40.0>\n",
      "        {0.0} <music21.note.Rest rest>\n",
      "        {1.0} <music21.note.Note F>\n",
      "        {1.5} <music21.note.Note F>\n",
      "        {2.0} <music21.note.Note C>\n",
      "        {2.5} <music21.note.Note D>\n",
      "        {3.0} <music21.note.Note D>\n",
      "        {3.5} <music21.note.Note D>\n",
      "    {44.0} <music21.stream.Measure 12 offset=44.0>\n",
      "        {0.0} <music21.note.Note A>\n",
      "        {0.5} <music21.note.Note B->\n",
      "        {1.0} <music21.note.Note C>\n",
      "        {1.5} <music21.note.Note G>\n",
      "        {3.5} <music21.note.Note G>\n",
      "    {48.0} <music21.stream.Measure 13 offset=48.0>\n",
      "        {0.0} <music21.note.Rest rest>\n",
      "        {1.0} <music21.note.Note F>\n",
      "        {1.5} <music21.note.Note F>\n",
      "        {2.0} <music21.note.Note C>\n",
      "        {2.5} <music21.note.Note D>\n",
      "        {3.0} <music21.note.Note D>\n",
      "        {3.5} <music21.note.Note C>\n",
      "    {52.0} <music21.stream.Measure 14 offset=52.0>\n",
      "        {0.0} <music21.note.Note C>\n",
      "        {0.5} <music21.note.Note B->\n",
      "        {1.0} <music21.note.Note A>\n",
      "        {1.5} <music21.note.Note G>\n",
      "        {2.5} <music21.note.Rest rest>\n",
      "        {3.0} <music21.note.Note A>\n",
      "        {3.25} <music21.note.Note G>\n",
      "        {3.75} <music21.note.Note G>\n",
      "    {56.0} <music21.stream.Measure 15 offset=56.0>\n",
      "        {0.0} <music21.note.Note G>\n",
      "        {0.5} <music21.note.Note F>\n",
      "        {2.5} <music21.bar.Barline type=final>\n",
      "{0.0} <music21.stream.Part 0x21a3ce532e8>\n",
      "    {0.0} <music21.instrument.Instrument 'P676c8b47a69b447c3d022f7084954c67: '>\n",
      "    {0.0} <music21.stream.Measure 1 offset=0.0>\n",
      "        {0.0} <music21.clef.BassClef>\n",
      "        {0.0} <music21.tempo.MetronomeMark andantino Quarter=79.0>\n",
      "        {0.0} <music21.key.Key of d minor>\n",
      "        {0.0} <music21.meter.TimeSignature 4/4>\n",
      "        {0.0} <music21.chord.Chord D3 F3 A3>\n",
      "        {2.0} <music21.chord.Chord B-2 D3 F3>\n",
      "    {4.0} <music21.stream.Measure 2 offset=4.0>\n",
      "        {0.0} <music21.chord.Chord F3 A3 C4>\n",
      "        {2.0} <music21.chord.Chord C3 E3 G3>\n",
      "    {8.0} <music21.stream.Measure 3 offset=8.0>\n",
      "        {0.0} <music21.chord.Chord D3 F3 A3>\n",
      "        {2.0} <music21.chord.Chord B-2 D3 F3>\n",
      "    {12.0} <music21.stream.Measure 4 offset=12.0>\n",
      "        {0.0} <music21.chord.Chord F3 A3 C4>\n",
      "        {2.0} <music21.chord.Chord C3 E3 G3>\n",
      "    {16.0} <music21.stream.Measure 5 offset=16.0>\n",
      "        {0.0} <music21.chord.Chord D3 F3 A3>\n",
      "        {2.0} <music21.chord.Chord B-2 D3 F3>\n",
      "    {20.0} <music21.stream.Measure 6 offset=20.0>\n",
      "        {0.0} <music21.chord.Chord F3 A3 C4>\n",
      "        {2.0} <music21.chord.Chord C3 E3 G3>\n",
      "    {24.0} <music21.stream.Measure 7 offset=24.0>\n",
      "        {0.0} <music21.chord.Chord B-2 D3 F3>\n",
      "    {28.0} <music21.stream.Measure 8 offset=28.0>\n",
      "        {0.0} <music21.chord.Chord C3 E3 G3>\n",
      "    {32.0} <music21.stream.Measure 9 offset=32.0>\n",
      "        {0.0} <music21.chord.Chord D3 F3 A3>\n",
      "        {2.0} <music21.chord.Chord B-2 D3 F3>\n",
      "    {36.0} <music21.stream.Measure 10 offset=36.0>\n",
      "        {0.0} <music21.chord.Chord F3 A3 C4>\n",
      "        {2.0} <music21.chord.Chord C3 E3 G3>\n",
      "    {40.0} <music21.stream.Measure 11 offset=40.0>\n",
      "        {0.0} <music21.chord.Chord D3 F3 A3>\n",
      "        {2.0} <music21.chord.Chord B-2 D3 F3>\n",
      "    {44.0} <music21.stream.Measure 12 offset=44.0>\n",
      "        {0.0} <music21.chord.Chord F3 A3 C4>\n",
      "        {2.0} <music21.chord.Chord C3 E3 G3>\n",
      "    {48.0} <music21.stream.Measure 13 offset=48.0>\n",
      "        {0.0} <music21.chord.Chord D3 F3 A3>\n",
      "        {2.0} <music21.chord.Chord B-2 D3 F3>\n",
      "    {52.0} <music21.stream.Measure 14 offset=52.0>\n",
      "        {0.0} <music21.chord.Chord F3 A3 C4>\n",
      "        {2.0} <music21.chord.Chord C3 E3 G3>\n",
      "    {56.0} <music21.stream.Measure 15 offset=56.0>\n",
      "        {0.0} <music21.chord.Chord B-2 D3 F3>\n",
      "    {60.0} <music21.stream.Measure 16 offset=60.0>\n",
      "        {0.0} <music21.chord.Chord B-2 D3 F3>\n",
      "        {3.0} <music21.chord.Chord C3 E3 G3>\n",
      "        {4.0} <music21.bar.Barline type=final>\n",
      "{0.0} <music21.layout.ScoreLayout>\n"
     ]
    }
   ],
   "source": [
    "item.show('text')"
   ]
  },
  {
   "cell_type": "markdown",
   "metadata": {},
   "source": [
    "**Generate Note Sequence**"
   ]
  },
  {
   "cell_type": "code",
   "execution_count": 5,
   "metadata": {
    "scrolled": false
   },
   "outputs": [
    {
     "data": {
      "text/plain": [
       "[Note - start: 4, duration: 2, pitch: 53, velocity: 100, syllable: None ,\n",
       " Note - start: 6, duration: 2, pitch: 53, velocity: 100, syllable: None ,\n",
       " Note - start: 8, duration: 2, pitch: 60, velocity: 100, syllable: None ,\n",
       " Note - start: 10, duration: 2, pitch: 62, velocity: 100, syllable: None ,\n",
       " Note - start: 12, duration: 2, pitch: 62, velocity: 100, syllable: None ,\n",
       " Note - start: 14, duration: 2, pitch: 60, velocity: 100, syllable: None ,\n",
       " Note - start: 16, duration: 2, pitch: 60, velocity: 100, syllable: None ,\n",
       " Note - start: 18, duration: 2, pitch: 58, velocity: 100, syllable: None ,\n",
       " Note - start: 20, duration: 2, pitch: 57, velocity: 100, syllable: None ,\n",
       " Note - start: 22, duration: 8, pitch: 55, velocity: 100, syllable: None ]"
      ]
     },
     "execution_count": 5,
     "metadata": {},
     "output_type": "execute_result"
    }
   ],
   "source": [
    "item.to_notesequence()[:10]"
   ]
  },
  {
   "cell_type": "markdown",
   "metadata": {},
   "source": [
    "**Generate Chord Sequence**"
   ]
  },
  {
   "cell_type": "code",
   "execution_count": 6,
   "metadata": {
    "scrolled": true
   },
   "outputs": [
    {
     "data": {
      "text/plain": [
       "[Chord - start: 0, pitch class: 2 ('D'), quality: minor,\n",
       " Chord - start: 8, pitch class: 10 ('A#'), quality: major,\n",
       " Chord - start: 16, pitch class: 5 ('F'), quality: major,\n",
       " Chord - start: 24, pitch class: 0 ('C'), quality: major,\n",
       " Chord - start: 32, pitch class: 2 ('D'), quality: minor]"
      ]
     },
     "execution_count": 6,
     "metadata": {},
     "output_type": "execute_result"
    }
   ],
   "source": [
    "item.to_chordsequence()[:5]"
   ]
  },
  {
   "cell_type": "markdown",
   "metadata": {},
   "source": [
    "**Generate Bar-Relative Sequence**"
   ]
  },
  {
   "cell_type": "code",
   "execution_count": 7,
   "metadata": {},
   "outputs": [
    {
     "data": {
      "text/plain": [
       "[[Chord - start: 0, pitch class: 2 ('D'), quality: minor,\n",
       "  Note - start: 4, duration: 2, pitch: 53, velocity: 100, syllable: None ,\n",
       "  Note - start: 6, duration: 2, pitch: 53, velocity: 100, syllable: None ,\n",
       "  Chord - start: 8, pitch class: 10 ('A#'), quality: major,\n",
       "  Note - start: 8, duration: 2, pitch: 60, velocity: 100, syllable: None ,\n",
       "  Note - start: 10, duration: 2, pitch: 62, velocity: 100, syllable: None ,\n",
       "  Note - start: 12, duration: 2, pitch: 62, velocity: 100, syllable: None ,\n",
       "  Note - start: 14, duration: 2, pitch: 60, velocity: 100, syllable: None ],\n",
       " [Chord - start: 0, pitch class: 5 ('F'), quality: major,\n",
       "  Note - start: 0, duration: 2, pitch: 60, velocity: 100, syllable: None ,\n",
       "  Note - start: 2, duration: 2, pitch: 58, velocity: 100, syllable: None ,\n",
       "  Note - start: 4, duration: 2, pitch: 57, velocity: 100, syllable: None ,\n",
       "  Note - start: 6, duration: 8, pitch: 55, velocity: 100, syllable: None ,\n",
       "  Chord - start: 8, pitch class: 0 ('C'), quality: major,\n",
       "  Note - start: 14, duration: 2, pitch: 55, velocity: 100, syllable: None ],\n",
       " [Chord - start: 0, pitch class: 2 ('D'), quality: minor,\n",
       "  Note - start: 4, duration: 2, pitch: 53, velocity: 100, syllable: None ,\n",
       "  Note - start: 6, duration: 2, pitch: 53, velocity: 100, syllable: None ,\n",
       "  Chord - start: 8, pitch class: 10 ('A#'), quality: major,\n",
       "  Note - start: 8, duration: 2, pitch: 60, velocity: 100, syllable: None ,\n",
       "  Note - start: 10, duration: 2, pitch: 62, velocity: 100, syllable: None ,\n",
       "  Note - start: 12, duration: 4, pitch: 62, velocity: 100, syllable: None ]]"
      ]
     },
     "execution_count": 7,
     "metadata": {},
     "output_type": "execute_result"
    }
   ],
   "source": [
    "item.to_barsequence()[:3]"
   ]
  },
  {
   "cell_type": "markdown",
   "metadata": {},
   "source": [
    "**Tokenize the score**\n",
    "* As tokens"
   ]
  },
  {
   "cell_type": "code",
   "execution_count": 8,
   "metadata": {
    "scrolled": true
   },
   "outputs": [
    {
     "data": {
      "text/plain": [
       "array([  0,   2,  29,   6, 259, 335,   8, 259, 335,  10,  68,  10, 266,\n",
       "       335,  12, 268, 335,  14, 268, 335,  16, 266, 335,   0,   2,  43,\n",
       "         2, 266, 335,   4, 264, 335,   6, 263, 335,   8, 261, 341,  10,\n",
       "        18,  16, 261, 335,   0,   2,  29,   6, 259, 335,   8, 259, 335,\n",
       "        10,  68,  10, 266, 335,  12, 268, 335,  14, 268, 337,   0,   2,\n",
       "        43,   2, 263, 335,   4, 264, 335,   6, 266, 335,   8, 261, 341,\n",
       "        10,  18,  16, 261, 335,   0,   2,  29,   6, 259, 335,   8, 259,\n",
       "       335,  10,  68,  10, 266, 335,  12, 268, 335,  14, 268, 337,   0,\n",
       "         2,  43,   2, 266, 335,   4, 264, 335,   6, 263, 335,   8, 261,\n",
       "       337,  10,  18,  14, 263, 334,  15, 261, 335,  17, 261, 334,   0,\n",
       "         2,  68,   2, 261, 335,   4, 259, 335,   6, 259, 335,   8, 256,\n",
       "       335,  10, 259, 335,  12, 256, 335,  14, 263, 335,  16, 263, 335,\n",
       "         0,   2,  18,   2, 263, 335,   4, 261, 339,  14, 259, 335,  16,\n",
       "       259, 335,   0,   2,  29,   2, 266, 335,   4, 268, 335,   6, 268,\n",
       "       335,   8, 266, 335,  10,  68,  10, 266, 335,  12, 264, 335,  14,\n",
       "       263, 335,  16, 261, 341,   0,   2,  43,   8, 261, 335,  10,  18,\n",
       "        14, 259, 335,  16, 259, 335,   0,   2,  29,   2, 266, 335,   4,\n",
       "       268, 335,   6, 268, 335,   8, 268, 335,  10,  68,  10, 263, 335,\n",
       "        12, 264, 335,  14, 266, 335,  16, 261, 341,   0,   2,  43,   8,\n",
       "       261, 335,  10,  18,  14, 259, 335,  16, 259, 335,   0,   2,  29,\n",
       "         2, 266, 335,   4, 268, 335,   6, 268, 335,   8, 266, 335,  10,\n",
       "        68,  10, 266, 335,  12, 264, 335,  14, 263, 335,  16, 261, 337,\n",
       "         0,   2,  43,   6, 263, 334,   7, 261, 335,   9, 261, 334,  10,\n",
       "        18,  10, 261, 335,  12, 259, 341,   1,   1,   1,   1,   1,   1,\n",
       "         1,   1,   1,   1,   1,   1,   1,   1,   1,   1,   1,   1,   1,\n",
       "         1,   1,   1,   1,   1,   1,   1,   1,   1,   1,   1,   1,   1,\n",
       "         1,   1,   1,   1,   1,   1,   1,   1,   1,   1,   1,   1,   1,\n",
       "         1,   1,   1,   1,   1,   1,   1,   1,   1,   1,   1,   1,   1,\n",
       "         1,   1,   1,   1,   1,   1,   1,   1,   1,   1,   1,   1,   1,\n",
       "         1,   1,   1,   1,   1,   1,   1,   1,   1,   1,   1,   1,   1,\n",
       "         1,   1,   1,   1,   1,   1,   1,   1,   1,   1,   1,   1,   1,\n",
       "         1,   1,   1,   1,   1,   1,   1,   1,   1,   1,   1,   1,   1,\n",
       "         1,   1,   1,   1,   1,   1,   1,   1,   1,   1,   1,   1,   1,\n",
       "         1,   1,   1,   1,   1,   1,   1,   1,   1,   1,   1,   1,   1,\n",
       "         1,   1,   1,   1,   1,   1,   1,   1,   1,   1,   1,   1,   1,\n",
       "         1,   1,   1,   1,   1,   1,   1,   1,   1,   1,   1,   1,   1,\n",
       "         1,   1,   1,   1,   1,   1,   1,   1,   1,   1,   1,   1,   1,\n",
       "         1,   1,   1,   1,   1,   1,   1,   1,   1,   1,   1,   1,   1,\n",
       "         1,   1,   1,   1,   1,   1,   1,   1,   1,   1,   1,   1,   1,\n",
       "         1,   1,   1,   1,   1])"
      ]
     },
     "execution_count": 8,
     "metadata": {},
     "output_type": "execute_result"
    }
   ],
   "source": [
    "tokens = item.to_tokens(padding_len=512); tokens"
   ]
  },
  {
   "cell_type": "markdown",
   "metadata": {},
   "source": [
    "* As text"
   ]
  },
  {
   "cell_type": "code",
   "execution_count": 9,
   "metadata": {
    "scrolled": false
   },
   "outputs": [
    {
     "data": {
      "text/plain": [
       "'xxbar p0 c11 p4 n53 d1 p6 n53 d1 p8 c50 p8 n60 d1 p10 n62 d1 p12 n62 d1 p14 n60 d1 xxbar p0 c25 p0 n60 d1 p2 n58 d1 p4 n57 d1 p6 n55 d7 p8 c0 p14 n55 d1 xxbar p0 c11 p4 n53 d1 p6 n53 d1 p8 c50 p8 n60 d1 p10 n62 d1 p12 n62 d3 xxbar p0 c25 p0 n57 d1 p2 n58 d1 p4 n60 d1 p6 n55 d7 p8 c0 p14 n55 d1 xxbar p0 c11 p4 n53 d1 p6 n53 d1 p8 c50 p8 n60 d1 p10 n62 d1 p12 n62 d3 xxbar p0 c25 p0 n60 d1 p2 n58 d1 p4 n57 d1 p6 n55 d3 p8 c0 p12 n57 d0 p13 n55 d1 p15 n55 d0 xxbar p0 c50 p0 n55 d1 p2 n53 d1 p4 n53 d1 p6 n50 d1 p8 n53 d1 p10 n50 d1 p12 n57 d1 p14 n57 d1 xxbar p0 c0 p0 n57 d1 p2 n55 d5 p12 n53 d1 p14 n53 d1 xxbar p0 c11 p0 n60 d1 p2 n62 d1 p4 n62 d1 p6 n60 d1 p8 c50 p8 n60 d1 p10 n58 d1 p12 n57 d1 p14 n55 d7 xxbar p0 c25 p6 n55 d1 p8 c0 p12 n53 d1 p14 n53 d1 xxbar p0 c11 p0 n60 d1 p2 n62 d1 p4 n62 d1 p6 n62 d1 p8 c50 p8 n57 d1 p10 n58 d1 p12 n60 d1 p14 n55 d7 xxbar p0 c25 p6 n55 d1 p8 c0 p12 n53 d1 p14 n53 d1 xxbar p0 c11 p0 n60 d1 p2 n62 d1 p4 n62 d1 p6 n60 d1 p8 c50 p8 n60 d1 p10 n58 d1 p12 n57 d1 p14 n55 d3 xxbar p0 c25 p4 n57 d0 p5 n55 d1 p7 n55 d0 p8 c0 p8 n55 d1 p10 n53 d7 xxpad xxpad xxpad xxpad xxpad xxpad xxpad xxpad xxpad xxpad xxpad xxpad xxpad xxpad xxpad xxpad xxpad xxpad xxpad xxpad xxpad xxpad xxpad xxpad xxpad xxpad xxpad xxpad xxpad xxpad xxpad xxpad xxpad xxpad xxpad xxpad xxpad xxpad xxpad xxpad xxpad xxpad xxpad xxpad xxpad xxpad xxpad xxpad xxpad xxpad xxpad xxpad xxpad xxpad xxpad xxpad xxpad xxpad xxpad xxpad xxpad xxpad xxpad xxpad xxpad xxpad xxpad xxpad xxpad xxpad xxpad xxpad xxpad xxpad xxpad xxpad xxpad xxpad xxpad xxpad xxpad xxpad xxpad xxpad xxpad xxpad xxpad xxpad xxpad xxpad xxpad xxpad xxpad xxpad xxpad xxpad xxpad xxpad xxpad xxpad xxpad xxpad xxpad xxpad xxpad xxpad xxpad xxpad xxpad xxpad xxpad xxpad xxpad xxpad xxpad xxpad xxpad xxpad xxpad xxpad xxpad xxpad xxpad xxpad xxpad xxpad xxpad xxpad xxpad xxpad xxpad xxpad xxpad xxpad xxpad xxpad xxpad xxpad xxpad xxpad xxpad xxpad xxpad xxpad xxpad xxpad xxpad xxpad xxpad xxpad xxpad xxpad xxpad xxpad xxpad xxpad xxpad xxpad xxpad xxpad xxpad xxpad xxpad xxpad xxpad xxpad xxpad xxpad xxpad xxpad xxpad xxpad xxpad xxpad xxpad xxpad xxpad xxpad xxpad xxpad xxpad xxpad xxpad xxpad xxpad xxpad xxpad xxpad xxpad xxpad xxpad xxpad xxpad xxpad xxpad xxpad xxpad xxpad xxpad xxpad xxpad xxpad xxpad xxpad xxpad xxpad'"
      ]
     },
     "execution_count": 9,
     "metadata": {},
     "output_type": "execute_result"
    }
   ],
   "source": [
    "item.to_tokens(padding_len=512, as_text = True)"
   ]
  },
  {
   "cell_type": "markdown",
   "metadata": {},
   "source": [
    "**Parse from tokens**"
   ]
  },
  {
   "cell_type": "code",
   "execution_count": 10,
   "metadata": {},
   "outputs": [
    {
     "name": "stdout",
     "output_type": "stream",
     "text": [
      "{0.0} <music21.stream.Part 0x21a3ce978d0>\n",
      "    {1.0} <music21.note.Note F>\n",
      "    {1.5} <music21.note.Note F>\n",
      "    {2.0} <music21.note.Note C>\n",
      "    {2.5} <music21.note.Note D>\n",
      "    {3.0} <music21.note.Note D>\n",
      "    {3.5} <music21.note.Note C>\n",
      "    {4.0} <music21.note.Note C>\n",
      "    {4.5} <music21.note.Note B->\n",
      "    {5.0} <music21.note.Note A>\n",
      "    {5.5} <music21.note.Note G>\n",
      "    {7.5} <music21.note.Note G>\n",
      "    {9.0} <music21.note.Note F>\n",
      "    {9.5} <music21.note.Note F>\n",
      "    {10.0} <music21.note.Note C>\n",
      "    {10.5} <music21.note.Note D>\n",
      "    {11.0} <music21.note.Note D>\n",
      "    {12.0} <music21.note.Note A>\n",
      "    {12.5} <music21.note.Note B->\n",
      "    {13.0} <music21.note.Note C>\n",
      "    {13.5} <music21.note.Note G>\n",
      "    {15.5} <music21.note.Note G>\n",
      "    {17.0} <music21.note.Note F>\n",
      "    {17.5} <music21.note.Note F>\n",
      "    {18.0} <music21.note.Note C>\n",
      "    {18.5} <music21.note.Note D>\n",
      "    {19.0} <music21.note.Note D>\n",
      "    {20.0} <music21.note.Note C>\n",
      "    {20.5} <music21.note.Note B->\n",
      "    {21.0} <music21.note.Note A>\n",
      "    {21.5} <music21.note.Note G>\n",
      "    {23.0} <music21.note.Note A>\n",
      "    {23.25} <music21.note.Note G>\n",
      "    {23.75} <music21.note.Note G>\n",
      "    {24.0} <music21.note.Note G>\n",
      "    {24.5} <music21.note.Note F>\n",
      "    {25.0} <music21.note.Note F>\n",
      "    {25.5} <music21.note.Note D>\n",
      "    {26.0} <music21.note.Note F>\n",
      "    {26.5} <music21.note.Note D>\n",
      "    {27.0} <music21.note.Note A>\n",
      "    {27.5} <music21.note.Note A>\n",
      "    {28.0} <music21.note.Note A>\n",
      "    {28.5} <music21.note.Note G>\n",
      "    {31.0} <music21.note.Note F>\n",
      "    {31.5} <music21.note.Note F>\n",
      "    {32.0} <music21.note.Note C>\n",
      "    {32.5} <music21.note.Note D>\n",
      "    {33.0} <music21.note.Note D>\n",
      "    {33.5} <music21.note.Note C>\n",
      "    {34.0} <music21.note.Note C>\n",
      "    {34.5} <music21.note.Note B->\n",
      "    {35.0} <music21.note.Note A>\n",
      "    {35.5} <music21.note.Note G>\n",
      "    {37.5} <music21.note.Note G>\n",
      "    {39.0} <music21.note.Note F>\n",
      "    {39.5} <music21.note.Note F>\n",
      "    {40.0} <music21.note.Note C>\n",
      "    {40.5} <music21.note.Note D>\n",
      "    {41.0} <music21.note.Note D>\n",
      "    {41.5} <music21.note.Note D>\n",
      "    {42.0} <music21.note.Note A>\n",
      "    {42.5} <music21.note.Note B->\n",
      "    {43.0} <music21.note.Note C>\n",
      "    {43.5} <music21.note.Note G>\n",
      "    {45.5} <music21.note.Note G>\n",
      "    {47.0} <music21.note.Note F>\n",
      "    {47.5} <music21.note.Note F>\n",
      "    {48.0} <music21.note.Note C>\n",
      "    {48.5} <music21.note.Note D>\n",
      "    {49.0} <music21.note.Note D>\n",
      "    {49.5} <music21.note.Note C>\n",
      "    {50.0} <music21.note.Note C>\n",
      "    {50.5} <music21.note.Note B->\n",
      "    {51.0} <music21.note.Note A>\n",
      "    {51.5} <music21.note.Note G>\n",
      "    {53.0} <music21.note.Note A>\n",
      "    {53.25} <music21.note.Note G>\n",
      "    {53.75} <music21.note.Note G>\n",
      "    {54.0} <music21.note.Note G>\n",
      "    {54.5} <music21.note.Note F>\n",
      "{56.5} <music21.stream.Part 0x21a3d091908>\n",
      "    {0.0} <music21.harmony.ChordSymbol Dm: D F A>\n",
      "    {2.0} <music21.harmony.ChordSymbol B-: B- D F>\n",
      "    {4.0} <music21.harmony.ChordSymbol F: F A C>\n",
      "    {6.0} <music21.harmony.ChordSymbol C: C E G>\n",
      "    {8.0} <music21.harmony.ChordSymbol Dm: D F A>\n",
      "    {10.0} <music21.harmony.ChordSymbol B-: B- D F>\n",
      "    {12.0} <music21.harmony.ChordSymbol F: F A C>\n",
      "    {14.0} <music21.harmony.ChordSymbol C: C E G>\n",
      "    {16.0} <music21.harmony.ChordSymbol Dm: D F A>\n",
      "    {18.0} <music21.harmony.ChordSymbol B-: B- D F>\n",
      "    {20.0} <music21.harmony.ChordSymbol F: F A C>\n",
      "    {22.0} <music21.harmony.ChordSymbol C: C E G>\n",
      "    {24.0} <music21.harmony.ChordSymbol B-: B- D F>\n",
      "    {28.0} <music21.harmony.ChordSymbol C: C E G>\n",
      "    {32.0} <music21.harmony.ChordSymbol Dm: D F A>\n",
      "    {34.0} <music21.harmony.ChordSymbol B-: B- D F>\n",
      "    {36.0} <music21.harmony.ChordSymbol F: F A C>\n",
      "    {38.0} <music21.harmony.ChordSymbol C: C E G>\n",
      "    {40.0} <music21.harmony.ChordSymbol Dm: D F A>\n",
      "    {42.0} <music21.harmony.ChordSymbol B-: B- D F>\n",
      "    {44.0} <music21.harmony.ChordSymbol F: F A C>\n",
      "    {46.0} <music21.harmony.ChordSymbol C: C E G>\n",
      "    {48.0} <music21.harmony.ChordSymbol Dm: D F A>\n",
      "    {50.0} <music21.harmony.ChordSymbol B-: B- D F>\n",
      "    {52.0} <music21.harmony.ChordSymbol F: F A C>\n",
      "    {54.0} <music21.harmony.ChordSymbol C: C E G>\n"
     ]
    }
   ],
   "source": [
    "item.from_tokens(tokens).show('text')"
   ]
  }
 ],
 "metadata": {
  "kernelspec": {
   "display_name": "Python 3",
   "language": "python",
   "name": "python3"
  },
  "language_info": {
   "codemirror_mode": {
    "name": "ipython",
    "version": 3
   },
   "file_extension": ".py",
   "mimetype": "text/x-python",
   "name": "python",
   "nbconvert_exporter": "python",
   "pygments_lexer": "ipython3",
   "version": "3.7.3"
  }
 },
 "nbformat": 4,
 "nbformat_minor": 4
}
