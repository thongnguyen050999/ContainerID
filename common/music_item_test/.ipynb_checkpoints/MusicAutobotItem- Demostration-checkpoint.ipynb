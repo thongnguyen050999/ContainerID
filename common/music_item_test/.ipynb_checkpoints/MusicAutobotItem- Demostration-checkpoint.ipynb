{
 "cells": [
  {
   "cell_type": "code",
   "execution_count": 1,
   "metadata": {},
   "outputs": [],
   "source": [
    "%reload_ext autoreload\n",
    "%autoreload 2\n",
    "import os, sys;\n",
    "from pathlib import Path\n",
    "cwd = Path(os.getcwd())\n",
    "sys.path.append(str(cwd.parents[0]))\n",
    "sys.path.append(str(cwd.parents[1]))"
   ]
  },
  {
   "cell_type": "code",
   "execution_count": 2,
   "metadata": {},
   "outputs": [],
   "source": [
    "from music_item import MusicAutobotItem"
   ]
  },
  {
   "cell_type": "markdown",
   "metadata": {},
   "source": [
    "### Parse `xml` file into MusicItem"
   ]
  },
  {
   "cell_type": "markdown",
   "metadata": {},
   "source": [
    "**Orignal**"
   ]
  },
  {
   "cell_type": "code",
   "execution_count": 3,
   "metadata": {},
   "outputs": [],
   "source": [
    "item = MusicAutobotItem()\n",
    "item.from_file('[1985][Bowling For Soup][intro].xml');"
   ]
  },
  {
   "cell_type": "markdown",
   "metadata": {},
   "source": [
    "### Convert into polyphony encoding array\n",
    "\n",
    "**By default, it's split into multiple parts**"
   ]
  },
  {
   "cell_type": "code",
   "execution_count": 4,
   "metadata": {
    "scrolled": true
   },
   "outputs": [
    {
     "data": {
      "text/plain": [
       "[array([[73,  2],\n",
       "        [-1,  2],\n",
       "        [75,  2],\n",
       "        [-1,  4],\n",
       "        [71,  2],\n",
       "        [-1,  2],\n",
       "        [73,  2],\n",
       "        [-1,  2],\n",
       "        [75,  2],\n",
       "        [-1,  4],\n",
       "        [71,  2],\n",
       "        [-1,  2],\n",
       "        [73,  2],\n",
       "        [-1,  2],\n",
       "        [71,  2],\n",
       "        [-1,  2],\n",
       "        [73,  2],\n",
       "        [-1,  2],\n",
       "        [75,  2],\n",
       "        [-1,  2],\n",
       "        [73,  2],\n",
       "        [-1,  2],\n",
       "        [71,  2],\n",
       "        [-1,  4],\n",
       "        [71,  2],\n",
       "        [-1,  2],\n",
       "        [73,  2],\n",
       "        [-1,  2],\n",
       "        [75,  2],\n",
       "        [-1,  4],\n",
       "        [71,  2],\n",
       "        [-1,  2],\n",
       "        [73,  2],\n",
       "        [-1,  2],\n",
       "        [75,  2],\n",
       "        [-1,  4],\n",
       "        [71,  2],\n",
       "        [-1,  2],\n",
       "        [73,  2],\n",
       "        [-1,  2],\n",
       "        [71,  2],\n",
       "        [-1,  2],\n",
       "        [73,  2],\n",
       "        [-1,  2],\n",
       "        [75,  2],\n",
       "        [-1,  2],\n",
       "        [73,  2],\n",
       "        [-1,  2],\n",
       "        [71,  2]]),\n",
       " array([[54, 16],\n",
       "        [51, 16],\n",
       "        [47, 16],\n",
       "        [-1, 16],\n",
       "        [59, 16],\n",
       "        [56, 16],\n",
       "        [52, 16],\n",
       "        [-1, 16],\n",
       "        [63, 16],\n",
       "        [59, 16],\n",
       "        [56, 16],\n",
       "        [-1, 16],\n",
       "        [61, 16],\n",
       "        [58, 16],\n",
       "        [54, 16]])]"
      ]
     },
     "execution_count": 4,
     "metadata": {},
     "output_type": "execute_result"
    }
   ],
   "source": [
    "poly_enc = item.to_polyphony_encode(); poly_enc"
   ]
  },
  {
   "cell_type": "markdown",
   "metadata": {},
   "source": [
    "**If want to merge into one polyphony array, raise the flag `merge_into_one_part`**"
   ]
  },
  {
   "cell_type": "code",
   "execution_count": 5,
   "metadata": {
    "scrolled": true
   },
   "outputs": [
    {
     "data": {
      "text/plain": [
       "[array([[73,  2],\n",
       "        [54, 16],\n",
       "        [51, 16],\n",
       "        [47, 16],\n",
       "        [-1,  2],\n",
       "        [75,  2],\n",
       "        [-1,  4],\n",
       "        [71,  2],\n",
       "        [-1,  2],\n",
       "        [73,  2],\n",
       "        [-1,  2],\n",
       "        [75,  2],\n",
       "        [-1,  4],\n",
       "        [71,  2],\n",
       "        [-1,  2],\n",
       "        [73,  2],\n",
       "        [59, 16],\n",
       "        [56, 16],\n",
       "        [52, 16],\n",
       "        [-1,  2],\n",
       "        [71,  2],\n",
       "        [-1,  2],\n",
       "        [73,  2],\n",
       "        [-1,  2],\n",
       "        [75,  2],\n",
       "        [-1,  2],\n",
       "        [73,  2],\n",
       "        [-1,  2],\n",
       "        [71,  2],\n",
       "        [-1,  4],\n",
       "        [71,  2],\n",
       "        [-1,  2],\n",
       "        [73,  2],\n",
       "        [63, 16],\n",
       "        [59, 16],\n",
       "        [56, 16],\n",
       "        [-1,  2],\n",
       "        [75,  2],\n",
       "        [-1,  4],\n",
       "        [71,  2],\n",
       "        [-1,  2],\n",
       "        [73,  2],\n",
       "        [-1,  2],\n",
       "        [75,  2],\n",
       "        [-1,  4],\n",
       "        [71,  2],\n",
       "        [-1,  2],\n",
       "        [73,  2],\n",
       "        [61, 16],\n",
       "        [58, 16],\n",
       "        [54, 16],\n",
       "        [-1,  2],\n",
       "        [71,  2],\n",
       "        [-1,  2],\n",
       "        [73,  2],\n",
       "        [-1,  2],\n",
       "        [75,  2],\n",
       "        [-1,  2],\n",
       "        [73,  2],\n",
       "        [-1,  2],\n",
       "        [71,  2]])]"
      ]
     },
     "execution_count": 5,
     "metadata": {},
     "output_type": "execute_result"
    }
   ],
   "source": [
    "poly_enc = item.to_polyphony_encode(merge_into_one_part=True); poly_enc"
   ]
  },
  {
   "cell_type": "markdown",
   "metadata": {},
   "source": [
    "### Tokenize the score\n",
    "\n",
    "**By default, it's split into multiple parts. There're `padding_len` to make all the same size. Default: 128**"
   ]
  },
  {
   "cell_type": "code",
   "execution_count": 6,
   "metadata": {
    "scrolled": true
   },
   "outputs": [
    {
     "data": {
      "text/plain": [
       "array([[  0,   1,  82, 139,   8, 139,  84, 139,   8, 141,  80, 139,   8,\n",
       "        139,  82, 139,   8, 139,  84, 139,   8, 141,  80, 139,   8, 139,\n",
       "         82, 139,   8, 139,  80, 139,   8, 139,  82, 139,   8, 139,  84,\n",
       "        139,   8, 139,  82, 139,   8, 139,  80, 139,   8, 141,  80, 139,\n",
       "          8, 139,  82, 139,   8, 139,  84, 139,   8, 141,  80, 139,   8,\n",
       "        139,  82, 139,   8, 139,  84, 139,   8, 141,  80, 139,   8, 139,\n",
       "         82, 139,   8, 139,  80, 139,   8, 139,  82, 139,   8, 139,  84,\n",
       "        139,   8, 139,  82, 139,   8, 139,  80, 139,   2,   1,   1,   1,\n",
       "          1,   1,   1,   1,   1,   1,   1,   1,   1,   1,   1,   1,   1,\n",
       "          1,   1,   1,   1,   1,   1,   1,   1,   1,   1,   1],\n",
       "       [  0,   1,  63, 153,  60, 153,  56, 153,   8, 153,  68, 153,  65,\n",
       "        153,  61, 153,   8, 153,  72, 153,  68, 153,  65, 153,   8, 153,\n",
       "         70, 153,  67, 153,  63, 153,   2,   1,   1,   1,   1,   1,   1,\n",
       "          1,   1,   1,   1,   1,   1,   1,   1,   1,   1,   1,   1,   1,\n",
       "          1,   1,   1,   1,   1,   1,   1,   1,   1,   1,   1,   1,   1,\n",
       "          1,   1,   1,   1,   1,   1,   1,   1,   1,   1,   1,   1,   1,\n",
       "          1,   1,   1,   1,   1,   1,   1,   1,   1,   1,   1,   1,   1,\n",
       "          1,   1,   1,   1,   1,   1,   1,   1,   1,   1,   1,   1,   1,\n",
       "          1,   1,   1,   1,   1,   1,   1,   1,   1,   1,   1,   1,   1,\n",
       "          1,   1,   1,   1,   1,   1,   1,   1,   1,   1,   1]],\n",
       "      dtype=int16)"
      ]
     },
     "execution_count": 6,
     "metadata": {},
     "output_type": "execute_result"
    }
   ],
   "source": [
    "tokens = item.to_tokens(); tokens"
   ]
  },
  {
   "cell_type": "markdown",
   "metadata": {},
   "source": [
    "**With positional encoding**"
   ]
  },
  {
   "cell_type": "code",
   "execution_count": 7,
   "metadata": {
    "scrolled": true
   },
   "outputs": [
    {
     "data": {
      "text/plain": [
       "array([[[  0,   1,  82, 139,   8, 139,  84, 139,   8, 141,  80, 139,\n",
       "           8, 139,  82, 139,   8, 139,  84, 139,   8, 141,  80, 139,\n",
       "           8, 139,  82, 139,   8, 139,  80, 139,   8, 139,  82, 139,\n",
       "           8, 139,  84, 139,   8, 139,  82, 139,   8, 139,  80, 139,\n",
       "           8, 141,  80, 139,   8, 139,  82, 139,   8, 139,  84, 139,\n",
       "           8, 141,  80, 139,   8, 139,  82, 139,   8, 139,  84, 139,\n",
       "           8, 141,  80, 139,   8, 139,  82, 139,   8, 139,  80, 139,\n",
       "           8, 139,  82, 139,   8, 139,  84, 139,   8, 139,  82, 139,\n",
       "           8, 139,  80, 139,   2,   1,   1,   1,   1,   1,   1,   1,\n",
       "           1,   1,   1,   1,   1,   1,   1,   1,   1,   1,   1,   1,\n",
       "           1,   1,   1,   1,   1,   1,   1,   1],\n",
       "        [  0,   0,   1,   1,   1,   1,   1,   1,   1,   1,   2,   2,\n",
       "           2,   2,   3,   3,   3,   3,   3,   3,   3,   3,   4,   4,\n",
       "           4,   4,   5,   5,   5,   5,   5,   5,   5,   5,   6,   6,\n",
       "           6,   6,   6,   6,   6,   6,   7,   7,   7,   7,   7,   7,\n",
       "           7,   7,   8,   8,   8,   8,   9,   9,   9,   9,   9,   9,\n",
       "           9,   9,  10,  10,  10,  10,  11,  11,  11,  11,  11,  11,\n",
       "          11,  11,  12,  12,  12,  12,  13,  13,  13,  13,  13,  13,\n",
       "          13,  13,  14,  14,  14,  14,  14,  14,  14,  14,  15,  15,\n",
       "          15,  15,  15,  15,  15,   0,   0,   0,   0,   0,   0,   0,\n",
       "           0,   0,   0,   0,   0,   0,   0,   0,   0,   0,   0,   0,\n",
       "           0,   0,   0,   0,   0,   0,   0,   0]],\n",
       "\n",
       "       [[  0,   1,  63, 153,  60, 153,  56, 153,   8, 153,  68, 153,\n",
       "          65, 153,  61, 153,   8, 153,  72, 153,  68, 153,  65, 153,\n",
       "           8, 153,  70, 153,  67, 153,  63, 153,   2,   1,   1,   1,\n",
       "           1,   1,   1,   1,   1,   1,   1,   1,   1,   1,   1,   1,\n",
       "           1,   1,   1,   1,   1,   1,   1,   1,   1,   1,   1,   1,\n",
       "           1,   1,   1,   1,   1,   1,   1,   1,   1,   1,   1,   1,\n",
       "           1,   1,   1,   1,   1,   1,   1,   1,   1,   1,   1,   1,\n",
       "           1,   1,   1,   1,   1,   1,   1,   1,   1,   1,   1,   1,\n",
       "           1,   1,   1,   1,   1,   1,   1,   1,   1,   1,   1,   1,\n",
       "           1,   1,   1,   1,   1,   1,   1,   1,   1,   1,   1,   1,\n",
       "           1,   1,   1,   1,   1,   1,   1,   1],\n",
       "        [  0,   0,   1,   1,   1,   1,   1,   1,   1,   1,   5,   5,\n",
       "           5,   5,   5,   5,   5,   5,   9,   9,   9,   9,   9,   9,\n",
       "           9,   9,  13,  13,  13,  13,  13,  13,  13,   0,   0,   0,\n",
       "           0,   0,   0,   0,   0,   0,   0,   0,   0,   0,   0,   0,\n",
       "           0,   0,   0,   0,   0,   0,   0,   0,   0,   0,   0,   0,\n",
       "           0,   0,   0,   0,   0,   0,   0,   0,   0,   0,   0,   0,\n",
       "           0,   0,   0,   0,   0,   0,   0,   0,   0,   0,   0,   0,\n",
       "           0,   0,   0,   0,   0,   0,   0,   0,   0,   0,   0,   0,\n",
       "           0,   0,   0,   0,   0,   0,   0,   0,   0,   0,   0,   0,\n",
       "           0,   0,   0,   0,   0,   0,   0,   0,   0,   0,   0,   0,\n",
       "           0,   0,   0,   0,   0,   0,   0,   0]]], dtype=int16)"
      ]
     },
     "execution_count": 7,
     "metadata": {},
     "output_type": "execute_result"
    }
   ],
   "source": [
    "tokens = item.to_positional_enc_tokens();tokens"
   ]
  },
  {
   "cell_type": "markdown",
   "metadata": {},
   "source": [
    "**If want to merge into one tokens array, raise the flag `merge_into_one_part`**"
   ]
  },
  {
   "cell_type": "code",
   "execution_count": 8,
   "metadata": {
    "scrolled": true
   },
   "outputs": [
    {
     "data": {
      "text/plain": [
       "array([[  0,   1,  82, 139,  63, 153,  60, 153,  56, 153,   8, 139,  84,\n",
       "        139,   8, 141,  80, 139,   8, 139,  82, 139,   8, 139,  84, 139,\n",
       "          8, 141,  80, 139,   8, 139,  82, 139,  68, 153,  65, 153,  61,\n",
       "        153,   8, 139,  80, 139,   8, 139,  82, 139,   8, 139,  84, 139,\n",
       "          8, 139,  82, 139,   8, 139,  80, 139,   8, 141,  80, 139,   8,\n",
       "        139,  82, 139,  72, 153,  68, 153,  65, 153,   8, 139,  84, 139,\n",
       "          8, 141,  80, 139,   8, 139,  82, 139,   8, 139,  84, 139,   8,\n",
       "        141,  80, 139,   8, 139,  82, 139,  70, 153,  67, 153,  63, 153,\n",
       "          8, 139,  80, 139,   8, 139,  82, 139,   8, 139,  84, 139,   8,\n",
       "        139,  82, 139,   8, 139,  80, 139,   2,   1,   1,   1]],\n",
       "      dtype=int16)"
      ]
     },
     "execution_count": 8,
     "metadata": {},
     "output_type": "execute_result"
    }
   ],
   "source": [
    "tokens = item.to_tokens(merge_into_one_part=True);tokens"
   ]
  },
  {
   "cell_type": "markdown",
   "metadata": {},
   "source": [
    "**If want to show the tokens as readable text**"
   ]
  },
  {
   "cell_type": "code",
   "execution_count": 9,
   "metadata": {
    "scrolled": true
   },
   "outputs": [
    {
     "data": {
      "text/plain": [
       "['xxbos xxpad n73 d2 xxsep d2 n75 d2 xxsep d4 n71 d2 xxsep d2 n73 d2 xxsep d2 n75 d2 xxsep d4 n71 d2 xxsep d2 n73 d2 xxsep d2 n71 d2 xxsep d2 n73 d2 xxsep d2 n75 d2 xxsep d2 n73 d2 xxsep d2 n71 d2 xxsep d4 n71 d2 xxsep d2 n73 d2 xxsep d2 n75 d2 xxsep d4 n71 d2 xxsep d2 n73 d2 xxsep d2 n75 d2 xxsep d4 n71 d2 xxsep d2 n73 d2 xxsep d2 n71 d2 xxsep d2 n73 d2 xxsep d2 n75 d2 xxsep d2 n73 d2 xxsep d2 n71 d2 xxeos xxpad xxpad xxpad xxpad xxpad xxpad xxpad xxpad xxpad xxpad xxpad xxpad xxpad xxpad xxpad xxpad xxpad xxpad xxpad xxpad xxpad xxpad xxpad xxpad xxpad xxpad xxpad',\n",
       " 'xxbos xxpad n54 d16 n51 d16 n47 d16 xxsep d16 n59 d16 n56 d16 n52 d16 xxsep d16 n63 d16 n59 d16 n56 d16 xxsep d16 n61 d16 n58 d16 n54 d16 xxeos xxpad xxpad xxpad xxpad xxpad xxpad xxpad xxpad xxpad xxpad xxpad xxpad xxpad xxpad xxpad xxpad xxpad xxpad xxpad xxpad xxpad xxpad xxpad xxpad xxpad xxpad xxpad xxpad xxpad xxpad xxpad xxpad xxpad xxpad xxpad xxpad xxpad xxpad xxpad xxpad xxpad xxpad xxpad xxpad xxpad xxpad xxpad xxpad xxpad xxpad xxpad xxpad xxpad xxpad xxpad xxpad xxpad xxpad xxpad xxpad xxpad xxpad xxpad xxpad xxpad xxpad xxpad xxpad xxpad xxpad xxpad xxpad xxpad xxpad xxpad xxpad xxpad xxpad xxpad xxpad xxpad xxpad xxpad xxpad xxpad xxpad xxpad xxpad xxpad xxpad xxpad xxpad xxpad xxpad xxpad']"
      ]
     },
     "execution_count": 9,
     "metadata": {},
     "output_type": "execute_result"
    }
   ],
   "source": [
    "text_tokens = item.to_tokens(as_text=True);text_tokens"
   ]
  },
  {
   "cell_type": "markdown",
   "metadata": {},
   "source": [
    "### Untokenize into score"
   ]
  },
  {
   "cell_type": "code",
   "execution_count": 11,
   "metadata": {
    "scrolled": true
   },
   "outputs": [
    {
     "data": {
      "image/png": "[encoded data removed]",
      "text/plain": [
       "<IPython.core.display.Image object>"
      ]
     },
     "metadata": {
      "image/png": {
       "height": 111,
       "width": 748
      }
     },
     "output_type": "display_data"
    }
   ],
   "source": [
    "item.from_tokens(item.to_tokens()); item.show()"
   ]
  },
  {
   "cell_type": "code",
   "execution_count": null,
   "metadata": {},
   "outputs": [],
   "source": []
  }
 ],
 "metadata": {
  "kernelspec": {
   "display_name": "Python 3",
   "language": "python",
   "name": "python3"
  },
  "language_info": {
   "codemirror_mode": {
    "name": "ipython",
    "version": 3
   },
   "file_extension": ".py",
   "mimetype": "text/x-python",
   "name": "python",
   "nbconvert_exporter": "python",
   "pygments_lexer": "ipython3",
   "version": "3.7.3"
  }
 },
 "nbformat": 4,
 "nbformat_minor": 4
}
