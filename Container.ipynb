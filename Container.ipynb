{
 "cells": [
  {
   "cell_type": "code",
   "execution_count": 32,
   "metadata": {},
   "outputs": [],
   "source": [
    "import numpy as np\n",
    "import pickle"
   ]
  },
  {
   "cell_type": "code",
   "execution_count": 5,
   "metadata": {},
   "outputs": [],
   "source": [
    "def encode(c):\n",
    "    if ord(c)>=48 and ord(c)<=57: return ord(c)-48\n",
    "    return ord(c)-65+10\n",
    "\n",
    "def token_string(s):\n",
    "    tokens=[]\n",
    "    for c in s: tokens.append(encode(c))\n",
    "    return tokens"
   ]
  },
  {
   "cell_type": "code",
   "execution_count": 6,
   "metadata": {},
   "outputs": [
    {
     "data": {
      "text/plain": [
       "[29, 12, 20, 30, 3, 6, 9, 7, 3, 0, 6]"
      ]
     },
     "execution_count": 6,
     "metadata": {},
     "output_type": "execute_result"
    }
   ],
   "source": [
    "token_string('TCKU3697306')"
   ]
  },
  {
   "cell_type": "markdown",
   "metadata": {},
   "source": [
    "# Encode container ids"
   ]
  },
  {
   "cell_type": "code",
   "execution_count": 29,
   "metadata": {},
   "outputs": [],
   "source": [
    "data=[]\n",
    "stringList=[]\n",
    "textFile='30k-container-ids.txt'\n",
    "\n",
    "with open(textFile,'r') as f:\n",
    "    lines=f.readlines()\n",
    "    for line in lines:\n",
    "        tokens=token_string(line.strip())\n",
    "        if len(tokens)!=11: continue\n",
    "        data.append(tokens)\n",
    "        stringList.append(line.strip())\n",
    "        \n",
    "data=np.asarray(data)"
   ]
  },
  {
   "cell_type": "code",
   "execution_count": 33,
   "metadata": {},
   "outputs": [],
   "source": [
    "pickleOut=open('container_id.pkl','wb')\n",
    "pickle.dump(data,pickleOut)\n",
    "pickleOut.close()"
   ]
  }
 ],
 "metadata": {
  "kernelspec": {
   "display_name": "Python 3",
   "language": "python",
   "name": "python3"
  },
  "language_info": {
   "codemirror_mode": {
    "name": "ipython",
    "version": 3
   },
   "file_extension": ".py",
   "mimetype": "text/x-python",
   "name": "python",
   "nbconvert_exporter": "python",
   "pygments_lexer": "ipython3",
   "version": "3.8.3"
  }
 },
 "nbformat": 4,
 "nbformat_minor": 4
}
