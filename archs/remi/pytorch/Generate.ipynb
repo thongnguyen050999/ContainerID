{
 "cells": [
  {
   "cell_type": "code",
   "execution_count": 1,
   "metadata": {},
   "outputs": [],
   "source": [
    "%load_ext autoreload\n",
    "%autoreload 2\n",
    "import os\n",
    "os.chdir('../../..')"
   ]
  },
  {
   "cell_type": "code",
   "execution_count": 2,
   "metadata": {},
   "outputs": [],
   "source": [
    "import torch\n",
    "import os, sys\n",
    "import numpy as np\n",
    "from archs.remi.models import Transformer\n",
    "from archs.remi.modules import *\n",
    "from archs.remi.data_utils import viDataLoader\n",
    "from pipelines.data_processing.configs import container_config"
   ]
  },
  {
   "cell_type": "code",
   "execution_count": 3,
   "metadata": {},
   "outputs": [
    {
     "name": "stderr",
     "output_type": "stream",
     "text": [
      "/home/Projects/KLA/thong/anaconda3/envs/container/lib/python3.8/site-packages/torch/serialization.py:657: SourceChangeWarning: source code of class 'archs.remi.models.Transformer' has changed. you can retrieve the original source code by accessing the object's source attribute or set `torch.nn.Module.dump_patches = True` and use the patch tool to revert the changes.\n",
      "  warnings.warn(msg, SourceChangeWarning)\n"
     ]
    }
   ],
   "source": [
    "model = torch.load(\"/home/Projects/KLA/thong/Project/Data/Hobby/ContainerID/weights/remi_models/20200608-153847/model.pt\").to('cuda:5') "
   ]
  },
  {
   "cell_type": "code",
   "execution_count": 6,
   "metadata": {},
   "outputs": [
    {
     "data": {
      "text/plain": [
       "27"
      ]
     },
     "execution_count": 6,
     "metadata": {},
     "output_type": "execute_result"
    }
   ],
   "source": [
    "ord('R')-65+10"
   ]
  },
  {
   "cell_type": "code",
   "execution_count": 7,
   "metadata": {},
   "outputs": [
    {
     "data": {
      "text/plain": [
       "20"
      ]
     },
     "execution_count": 7,
     "metadata": {},
     "output_type": "execute_result"
    }
   ],
   "source": [
    "ord('K')-65+10"
   ]
  },
  {
   "cell_type": "code",
   "execution_count": 8,
   "metadata": {},
   "outputs": [
    {
     "data": {
      "text/plain": [
       "30"
      ]
     },
     "execution_count": 8,
     "metadata": {},
     "output_type": "execute_result"
    }
   ],
   "source": [
    "ord('U')-65+10"
   ]
  },
  {
   "cell_type": "code",
   "execution_count": 9,
   "metadata": {},
   "outputs": [],
   "source": [
    "pred_tokens, full_tokens = model.generate([10,65,20,30,4], container_config.vocab)"
   ]
  },
  {
   "cell_type": "code",
   "execution_count": 10,
   "metadata": {},
   "outputs": [
    {
     "data": {
      "text/plain": [
       "[10, 65, 20, 30, 4, 3, 1, 0, 0, 0, 3]"
      ]
     },
     "execution_count": 10,
     "metadata": {},
     "output_type": "execute_result"
    }
   ],
   "source": [
    "full_tokens"
   ]
  },
  {
   "cell_type": "code",
   "execution_count": 4,
   "metadata": {},
   "outputs": [],
   "source": [
    "def encode(c):\n",
    "    if ord(c)>=48 and ord(c)<=57: return ord(c)-48\n",
    "    return ord(c)-65+10\n",
    "\n",
    "def token_string(s):\n",
    "    tokens=[]\n",
    "    for c in s: tokens.append(encode(c))\n",
    "    return tokens"
   ]
  },
  {
   "cell_type": "code",
   "execution_count": 5,
   "metadata": {},
   "outputs": [],
   "source": [
    "def from_tokens(tokens):\n",
    "    ans=''\n",
    "    for token in tokens: \n",
    "        if token>=0 and token<=9: ans+=str(token)\n",
    "        else: ans+=chr(token+65-10)\n",
    "    return ans"
   ]
  },
  {
   "cell_type": "code",
   "execution_count": 9,
   "metadata": {},
   "outputs": [
    {
     "name": "stdout",
     "output_type": "stream",
     "text": [
      "MRKU9230000\n",
      "TGHU1111111\n",
      "ZCSU8570000\n",
      "TCLU5627851\n"
     ]
    }
   ],
   "source": [
    "primers=['MRKU92','TGHU','ZCSU','TCLU56278']\n",
    "for primer in primers:\n",
    "    tokens=token_string(primer)\n",
    "    pred_tokens, full_tokens = model.generate(tokens, container_config.vocab)  \n",
    "    print(from_tokens(full_tokens))"
   ]
  }
 ],
 "metadata": {
  "kernelspec": {
   "display_name": "Python 3",
   "language": "python",
   "name": "python3"
  },
  "language_info": {
   "codemirror_mode": {
    "name": "ipython",
    "version": 3
   },
   "file_extension": ".py",
   "mimetype": "text/x-python",
   "name": "python",
   "nbconvert_exporter": "python",
   "pygments_lexer": "ipython3",
   "version": "3.8.3"
  }
 },
 "nbformat": 4,
 "nbformat_minor": 4
}
